{
 "cells": [
  {
   "cell_type": "code",
   "execution_count": 1,
   "metadata": {},
   "outputs": [],
   "source": [
    "import numpy as np\n",
    "import math, random\n",
    "from  scipy.spatial.distance import cdist\n",
    "from mpl_toolkits.mplot3d import Axes3D\n",
    "import matplotlib.pyplot as plt\n",
    "from Spatial_distributions import *\n",
    "from Independent_functions import *\n",
    "from Staples_related import *\n",
    "#%matplotlib inline"
   ]
  },
  {
   "cell_type": "code",
   "execution_count": 2,
   "metadata": {},
   "outputs": [],
   "source": [
    "def build_fcc_NP():\n",
    "    const = 2**1.5*(metal_radius[metal_opt]*scale)\n",
    "    cells_per_side = int((((2*radius_opt)//const)+1)//2*2+1)\n",
    "    fcc_block = make_fcc_lattice(const, cells_per_side, cells_per_side, cells_per_side)\n",
    "    \n",
    "    fcc_sphere=fcc_block[np.linalg.norm(fcc_block, axis=1)<= (radius_opt-(scale*metal_radius[metal_opt]))]\n",
    "    bnds = get_bonds_NP(fcc_sphere)\n",
    "    atid, labs, typs = np.linspace(1, len(fcc_sphere), len(fcc_sphere), dtype = 'int'), [\"A\"]*len(fcc_sphere), [1]*len(fcc_sphere)\n",
    "    \n",
    "    NP = Molecule(atid, fcc_sphere, bnds, labs, typs)\n",
    "    return NP\n",
    "\n",
    "def get_bonds_NP(pts):\n",
    "    bonds = []\n",
    "    cutoff = 2*scale*metal_radius[metal_opt] + 0.05\n",
    "    for i in range(len(pts)):\n",
    "        dist = cdist(pts, pts)[i,:]\n",
    "        x = np.where(dist <= cutoff)[0]\n",
    "        #print(dist[dist <= cutoff])\n",
    "        x = np.delete(x, np.where(x == i)[0])\n",
    "        x = x + 1\n",
    "        bonds.append(list(x))\n",
    "    return bonds"
   ]
  },
  {
   "cell_type": "code",
   "execution_count": 3,
   "metadata": {},
   "outputs": [],
   "source": [
    "def build_citrate():\n",
    "    #AB and BAB were taken from atomistic simulations of citrate in water\n",
    "    AB = 0.288 #bond distance\n",
    "    BAB = 111.15 #degrees\n",
    "    A = np.zeros((1,3))\n",
    "    B1 = [[AB, 0, 0]]\n",
    "    B2 = AB*np.array([[-np.cos(BAB), np.sin(BAB), 0]])\n",
    "    \n",
    "    xyz = np.vstack((A, B1, B2))\n",
    "    bnds = [[2, 3], [1, 3], [1, 2]]\n",
    "    atid, labs, typs = np.linspace(1, len(xyz), len(xyz), dtype = 'int'), [\"B\", \"C\", \"C\"], [2, 3, 3]\n",
    "    \n",
    "    cit = Molecule(atid, xyz, bnds, labs, typs)\n",
    "    print(\"CT-CT bond lenght is: {:.3f}\".format(math.sqrt(2*AB**2*(1-math.cos(BAB*math.pi/180)))))\n",
    "    return cit"
   ]
  },
  {
   "cell_type": "code",
   "execution_count": 4,
   "metadata": {},
   "outputs": [],
   "source": [
    "def build_sodium(N):\n",
    "    B = np.array([BX, BY, BZ])\n",
    "    xyz = np.multiply(np.random.rand(N,3), B) - B/2\n",
    "    sod = []\n",
    "    for i in range(N):\n",
    "        sod.append(Molecule([1], xyz[i], [], [\"D\"], [4]))\n",
    "    return sod"
   ]
  },
  {
   "cell_type": "code",
   "execution_count": 5,
   "metadata": {},
   "outputs": [],
   "source": [
    "def solvate(solute):\n",
    "    const = (4/8.26)**(1/3) #4 is the num of molecules in FCC lattice. 8.26 is the number density of martini water.\n",
    "    W = make_fcc_lattice(const, round(BX/const), round(BY/const), round(BZ/const)) #This is usually overestimated\n",
    "    d = len(W)/(BX*BY*BZ)\n",
    "    if d > 8.26: \n",
    "        random.seed(666)\n",
    "        while d > 8.26: #additional tolerance\n",
    "            ndx = random.randint(0, len(W))\n",
    "            W = np.delete(W, ndx, 0)\n",
    "            d = len(W)/(BX*BY*BZ)\n",
    "    else:\n",
    "        print(\"Water is not dense enough\")\n",
    "    \n",
    "    dist = cdist(W, solute.xyz)\n",
    "    W = W[np.all(dist>=0.5, axis=1)] # 0.5 is somewhere between 2*rH2O and 2*tPt\n",
    "    \n",
    "    waters = []\n",
    "    for i in range(len(W)):\n",
    "        waters.append(Molecule([1], W[i], [], [\"E\"], [5]))\n",
    "    return waters"
   ]
  },
  {
   "cell_type": "code",
   "execution_count": 6,
   "metadata": {
    "scrolled": true
   },
   "outputs": [],
   "source": [
    "def init_fort5():\n",
    "    f5 = open(\"fort.5\", \"w\")\n",
    "    f5.write(\" box:\\n\")\n",
    "    f5.write(\"  {:>9.6f}\\t{:>9.6f}\\t{:>9.6f}\\t{:>13.6E}\\n\".format(BX, BY, BZ, BW))\n",
    "    f5.write(\" Numero totale di molecole:\\n\")\n",
    "    f5.write(\"{:>10}\\n\".format(0))\n",
    "    f5.close()\n",
    "    \n",
    "def add_mol_fort5(mol, molid):\n",
    "    f5 = open(\"fort.5\", \"r\")\n",
    "    f5l = f5.readlines()\n",
    "    f5l = [l.replace(\"\\n\", \"\") for l in f5l]\n",
    "    if molid == 1:\n",
    "        lastid = 0\n",
    "    else:\n",
    "        lastid = int(f5l[-1][:4])\n",
    "    f5.close()\n",
    "    \n",
    "    at_per_mol = len(mol.xyz)\n",
    "    f5 = open(\"fort.5\", \"a\")\n",
    "    f5.write(\"molecola nr.{:>13}\\n\".format(molid))\n",
    "    f5.write(\"{:>7}\\n\".format(at_per_mol))\n",
    "    for j in range(at_per_mol):\n",
    "        atid = lastid+mol.atids[j]\n",
    "        lab = mol.labels[j]\n",
    "        tipo = mol.types[j]\n",
    "        N_bonds = len(mol.bonds[j])\n",
    "        x, y, z = mol.xyz[j,0] + BX/2, mol.xyz[j,1] + BY/2, mol.xyz[j,2] + BZ/2\n",
    "        f5.write(\"{:>4}{:>2}{:>9}{:>7}{:>9.3f}{:>9.3f}{:>9.3f}    \".format(atid, lab, tipo, N_bonds, x, y, z))\n",
    "        for k in range(12):\n",
    "            if k >= len(mol.bonds[j]):\n",
    "                f5.write(\"{:>7}\".format(0))\n",
    "            else:\n",
    "                f5.write(\"{:>7}\".format(mol.bonds[j][k]+lastid))\n",
    "        f5.write(\"\\n\")\n",
    "    f5.close()\n",
    "    \n",
    "def add_wat_fort5(wats, prev_molid):\n",
    "    f5 = open(\"fort.5\", \"r\")\n",
    "    f5l = f5.readlines()\n",
    "    f5l = [l.replace(\"\\n\", \"\") for l in f5l]\n",
    "    lastid = int(f5l[-1][:4])\n",
    "    f5.close()\n",
    "    \n",
    "    molid = prev_molid + 1\n",
    "    N_mol = len(wats)\n",
    "    f5 = open(\"fort.5\", \"a\")\n",
    "    for i in range(N_mol):\n",
    "        f5.write(\"molecola nr.{:>13}\\n\".format(molid))\n",
    "        f5.write(\"{:>7}\\n\".format(1))\n",
    "        atid = lastid+wats[i].atids[0]\n",
    "        lab = wats[i].labels[0]\n",
    "        tipo = wats[i].types[0]\n",
    "        N_bonds = len(wats[i].bonds)\n",
    "        x, y, z = wats[i].xyz[0] + BX/2, wats[i].xyz[1] + BY/2, wats[i].xyz[2] + BZ/2\n",
    "        f5.write(\"{:>4}{:>2}{:>9}{:>7}{:>9.3f}{:>9.3f}{:>9.3f}    \".format(atid, lab, tipo, N_bonds, x, y, z))\n",
    "        for k in range(12):\n",
    "            f5.write(\"{:>7}\".format(0))\n",
    "        f5.write(\"\\n\")\n",
    "        molid = molid + 1\n",
    "        lastid = lastid +1\n",
    "    f5.close()\n",
    "\n",
    "def terminate_fort5():\n",
    "    new_lines = []\n",
    "    f5 = open(\"fort.5\", \"r\")\n",
    "    f5l = f5.readlines()\n",
    "    f5.close()\n",
    "\n",
    "    f5l_copy = f5l\n",
    "    for l, line in enumerate(f5l):\n",
    "        if \"molecola nr.\" in line:\n",
    "            N_mol = int(f5l[l][-6:])\n",
    "    for l, line in enumerate(f5l_copy):\n",
    "        if \"Numero totale di molecole\" in line:\n",
    "            f5l_copy[l+1] = \"{:>6}\\n\".format(N_mol)\n",
    "            break\n",
    "            \n",
    "    f5 = open(\"fort.5\", \"w\")\n",
    "    for line in f5l_copy:\n",
    "        f5.write(line)\n",
    "            "
   ]
  },
  {
   "cell_type": "code",
   "execution_count": 7,
   "metadata": {},
   "outputs": [],
   "source": [
    "def write_fort3():\n",
    "    f3 = open(\"fort.3\", \"w\")\n",
    "    f3.write(\"********* model file ******************************\\n\")\n",
    "    \n",
    "    f3.write(\"{:>2}   different atom types\\n\".format(len(atypes)))\n",
    "    f3.write(\"*label    mass     charge\\n\")\n",
    "    for a in atypes:\n",
    "        f3.write(\"{:>2}{:>6}{:>12.4f}{:>12.4f}\\n\".format(a[0], a[1], a[2], a[3]))\n",
    "    f3.write(\"****************************************************\\n\")\n",
    "    \n",
    "    f3.write(\"{:>2}   different bond types\\n\".format(len(btypes)))\n",
    "    f3.write(\"*atom 1   atom2   bond_length   force_constant\\n\")\n",
    "    for b in btypes:\n",
    "        f3.write(\"{:>2}{:>10}{:>12.4f}{:>12.4f}\\n\".format(b[0], b[1], b[2], b[3]))\n",
    "    f3.write(\"****************************************************\\n\")\n",
    "\n",
    "    f3.write(\"{:>2}   different bond angles\\n\".format(len(antypes)))\n",
    "    f3.write(\"*atom1   atom2    atom3     theta0(deg)  force_constant\\n\")\n",
    "    for c in antypes:\n",
    "        f3.write(\"{:>2}{:>10}{:>10}{:>12.4f}{:>12.4f}\\n\".format(c[0], c[1], c[2], c[3], c[4]))\n",
    "    f3.write(\"****************************************************\\n\")\n",
    "\n",
    "    f3.write(\"{:>2}   different torsions\\n\".format(len(ttypes)))\n",
    "    f3.write(\"*atom1***atom2*** atom3***atom4***\\n\")\n",
    "    for d in ttypes:\n",
    "        f3.write(\"{:>2}{:>10}{:>10}{:>10}\\n\".format(d[0], d[1], d[2], d[3]))\n",
    "    f3.write(\"****************************************************\\n\")\n",
    "\n",
    "    f3.write(\"{:>2}   different non-bonded interactions\\n\".format(len(vdw)))\n",
    "    f3.write(\"*type 1 ** type 2 sigma  epsilon\\n\")\n",
    "    for v in vdw:\n",
    "        f3.write(\"{:>2}{:>10}{:>12.4f}{:>12.4f}\\n\".format(v[0], v[1], v[2], v[3]))\n",
    "        \n",
    "    f3.write(\"***** SCF settings **********************************\\n\")\n",
    "    f3.write(\"* mx   my   mz  cells in  X Y Z directions\\n\")\n",
    "    f3.write(\"{:>7}{:>7}{:>7}\\n\".format(cells[0], cells[1], cells[2]))\n",
    "    \n",
    "    f3.write(\"* compressibility\\n\")\n",
    "    f3.write(\"{:>5.2f}\\n\".format(compress))\n",
    "\n",
    "    f3.write(\"*chi matrix corresponding test Q for PEO and test H for PPO\\n\")\n",
    "    for row in chi:\n",
    "        for x in row:\n",
    "            f3.write(\"{:>7.2f}\".format(x))\n",
    "        f3.write(\"\\n\")"
   ]
  },
  {
   "cell_type": "markdown",
   "metadata": {},
   "source": [
    "# Running code"
   ]
  },
  {
   "cell_type": "markdown",
   "metadata": {},
   "source": [
    "## Structure"
   ]
  },
  {
   "cell_type": "markdown",
   "metadata": {},
   "source": [
    "### General"
   ]
  },
  {
   "cell_type": "code",
   "execution_count": 8,
   "metadata": {},
   "outputs": [],
   "source": [
    "BX, BY, BZ, BW = 7.0, 7.0, 7.0, 0.0 #nm\n",
    "SYS = System(BX, BY, BZ)\n",
    "init_fort5()"
   ]
  },
  {
   "cell_type": "markdown",
   "metadata": {},
   "source": [
    "### Nanoparticles"
   ]
  },
  {
   "cell_type": "code",
   "execution_count": 9,
   "metadata": {},
   "outputs": [],
   "source": [
    "metal_radius = {'Pt' : 0.1385} #in nm\n",
    "scale = 1.5   #Coarse-graining level for the metal\n",
    "metal_opt = \"Pt\"\n",
    "lignum_opt = 0\n",
    "radius_opt = 1.25 #nm"
   ]
  },
  {
   "cell_type": "code",
   "execution_count": 10,
   "metadata": {
    "scrolled": true
   },
   "outputs": [
    {
     "name": "stdout",
     "output_type": "stream",
     "text": [
      "Scaling: 1.5 Beads: 92\n"
     ]
    }
   ],
   "source": [
    "NP = build_fcc_NP()\n",
    "SYS.add_molecule(NP)\n",
    "add_mol_fort5(NP, 1)\n",
    "print(\"Scaling:\", scale, \"Beads:\", len(NP.xyz))"
   ]
  },
  {
   "cell_type": "markdown",
   "metadata": {},
   "source": [
    "### Citrate"
   ]
  },
  {
   "cell_type": "code",
   "execution_count": 11,
   "metadata": {},
   "outputs": [
    {
     "name": "stdout",
     "output_type": "stream",
     "text": [
      "CT-CT bond lenght is: 0.475\n",
      "CT-CT bond lenght is: 0.475\n",
      "CT-CT bond lenght is: 0.475\n",
      "CT-CT bond lenght is: 0.475\n",
      "CT-CT bond lenght is: 0.475\n",
      "CT-CT bond lenght is: 0.475\n",
      "CT-CT bond lenght is: 0.475\n",
      "CT-CT bond lenght is: 0.475\n",
      "CT-CT bond lenght is: 0.475\n",
      "CT-CT bond lenght is: 0.475\n"
     ]
    }
   ],
   "source": [
    "N_cit = 10\n",
    "all_xyz = NP.xyz\n",
    "for i in range(N_cit):\n",
    "    CIT = build_citrate()\n",
    "    CIT.remove_clashes(SYS, BX, BY, BZ)\n",
    "    SYS.add_molecule(CIT)\n",
    "    add_mol_fort5(CIT, i + 2)"
   ]
  },
  {
   "cell_type": "markdown",
   "metadata": {},
   "source": [
    "### Sodium"
   ]
  },
  {
   "cell_type": "code",
   "execution_count": 12,
   "metadata": {},
   "outputs": [
    {
     "data": {
      "text/plain": [
       "(None,)"
      ]
     },
     "execution_count": 12,
     "metadata": {},
     "output_type": "execute_result"
    }
   ],
   "source": [
    "N_sod = 3*N_cit\n",
    "NA = build_sodium(N_sod)\n",
    "for i in range(len(NA)):\n",
    "    SYS.add_molecule(NA[i])\n",
    "add_wat_fort5(NA, 1 + N_cit)"
   ]
  },
  {
   "cell_type": "markdown",
   "metadata": {},
   "source": [
    "### Water"
   ]
  },
  {
   "cell_type": "code",
   "execution_count": 13,
   "metadata": {},
   "outputs": [],
   "source": [
    "W = solvate(NP)\n",
    "for i in range(len(W)):\n",
    "    SYS.add_molecule(W[i])\n",
    "add_wat_fort5(W, 1 + N_cit + N_sod)"
   ]
  },
  {
   "cell_type": "code",
   "execution_count": 14,
   "metadata": {},
   "outputs": [],
   "source": [
    "terminate_fort5()"
   ]
  },
  {
   "cell_type": "code",
   "execution_count": 21,
   "metadata": {},
   "outputs": [],
   "source": [
    "print_xyz(\"1NP5CITNAWAT\", SYS.xyz, SYS.labels)"
   ]
  },
  {
   "cell_type": "markdown",
   "metadata": {},
   "source": [
    "## Parameters"
   ]
  },
  {
   "cell_type": "code",
   "execution_count": 19,
   "metadata": {},
   "outputs": [],
   "source": [
    "res      = 0.65 #nm/cell\n",
    "compress = 0.05\n",
    "\n",
    "atypes   = [[1,  \"A\",   784.238,   0.0],\\\n",
    "            [2,  \"B\",      72.0,  -1.0],\\\n",
    "            [3,  \"C\",      58.0,  -1.0],\\\n",
    "            [4,  \"D\",      72.0,   0.0],\\\n",
    "            [5,  \"E\",      72.0,   0.0]\\\n",
    "           ]\n",
    "btypes   = [[1,    1, 0.4155,   5000],\\\n",
    "            [2,    3,  0.288,   5000],\\\n",
    "            [3,    3,  0.475,   5000],\\\n",
    "           ]\n",
    "antypes  = [\\\n",
    "           ]\n",
    "ttypes   = [\\\n",
    "           ]\n",
    "vdw      = [[1,    1,    666,   666],\\\n",
    "            [2,    2,    666,   666],\\\n",
    "            [3,    3,    666,   666],\\\n",
    "            [4,    4,    666,   666],\\\n",
    "            [5,    5,    666,   666],\\\n",
    "           ]\n",
    "#Order is     Pt,   CM,   CT,   NA,   W\n",
    "chi      = [[ 0.0,  0.0,  0.0,  0.0,  0.0],\\\n",
    "            [ 0.0,  0.0,  0.0,  0.0,  0.0],\\\n",
    "            [ 0.0,  0.0,  0.0,  0.0, 10.0],\\\n",
    "            [ 0.0,  0.0,  0.0,  0.0,  0.0],\\\n",
    "            [ 0.0,  0.0, 10.0,  0.0,  0.0],\\\n",
    "           ]\n",
    "\n",
    "cells    = list(map(int, [BX//res, BY//res, BZ//res]))\n",
    "\n",
    "#The mass for particles A is 195.084 * N(CG)/N(AA)"
   ]
  },
  {
   "cell_type": "code",
   "execution_count": 20,
   "metadata": {},
   "outputs": [],
   "source": [
    "write_fort3()"
   ]
  },
  {
   "cell_type": "code",
   "execution_count": null,
   "metadata": {},
   "outputs": [],
   "source": []
  }
 ],
 "metadata": {
  "kernelspec": {
   "display_name": "Python 3",
   "language": "python",
   "name": "python3"
  },
  "language_info": {
   "codemirror_mode": {
    "name": "ipython",
    "version": 3
   },
   "file_extension": ".py",
   "mimetype": "text/x-python",
   "name": "python",
   "nbconvert_exporter": "python",
   "pygments_lexer": "ipython3",
   "version": "3.6.5"
  }
 },
 "nbformat": 4,
 "nbformat_minor": 2
}
